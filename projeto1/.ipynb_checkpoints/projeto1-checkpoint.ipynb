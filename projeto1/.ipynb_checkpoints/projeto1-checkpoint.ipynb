{
 "cells": [
  {
   "cell_type": "code",
   "execution_count": 2,
   "metadata": {
    "collapsed": true
   },
   "outputs": [],
   "source": [
    "import pandas as pd\n",
    "%matplotlib inline\n",
    "import matplotlib.pyplot as plt\n",
    "import matplotlib"
   ]
  },
  {
   "cell_type": "code",
   "execution_count": 3,
   "metadata": {
    "collapsed": true
   },
   "outputs": [],
   "source": [
    "dados2009 = pd.read_csv('DOM2009.csv')\n"
   ]
  },
  {
   "cell_type": "code",
   "execution_count": 4,
   "metadata": {},
   "outputs": [
    {
     "data": {
      "text/html": [
       "<div>\n",
       "<table border=\"1\" class=\"dataframe\">\n",
       "  <thead>\n",
       "    <tr style=\"text-align: right;\">\n",
       "      <th></th>\n",
       "      <th>UF</th>\n",
       "      <th>V0105</th>\n",
       "      <th>V4621</th>\n",
       "      <th>V4623</th>\n",
       "      <th>V2124</th>\n",
       "      <th>V2126</th>\n",
       "      <th>V2128</th>\n",
       "      <th>V2130</th>\n",
       "      <th>V2132</th>\n",
       "      <th>V2134</th>\n",
       "      <th>V2136</th>\n",
       "    </tr>\n",
       "  </thead>\n",
       "  <tbody>\n",
       "    <tr>\n",
       "      <th>0</th>\n",
       "      <td>11</td>\n",
       "      <td>NaN</td>\n",
       "      <td>NaN</td>\n",
       "      <td>NaN</td>\n",
       "      <td>NaN</td>\n",
       "      <td>NaN</td>\n",
       "      <td>NaN</td>\n",
       "      <td>NaN</td>\n",
       "      <td>NaN</td>\n",
       "      <td>NaN</td>\n",
       "      <td>NaN</td>\n",
       "    </tr>\n",
       "    <tr>\n",
       "      <th>1</th>\n",
       "      <td>11</td>\n",
       "      <td>NaN</td>\n",
       "      <td>NaN</td>\n",
       "      <td>NaN</td>\n",
       "      <td>NaN</td>\n",
       "      <td>NaN</td>\n",
       "      <td>NaN</td>\n",
       "      <td>NaN</td>\n",
       "      <td>NaN</td>\n",
       "      <td>NaN</td>\n",
       "      <td>NaN</td>\n",
       "    </tr>\n",
       "    <tr>\n",
       "      <th>2</th>\n",
       "      <td>11</td>\n",
       "      <td>7.0</td>\n",
       "      <td>118.0</td>\n",
       "      <td>3.0</td>\n",
       "      <td>2.0</td>\n",
       "      <td>4.0</td>\n",
       "      <td>4.0</td>\n",
       "      <td>4.0</td>\n",
       "      <td>4.0</td>\n",
       "      <td>4.0</td>\n",
       "      <td>2.0</td>\n",
       "    </tr>\n",
       "    <tr>\n",
       "      <th>3</th>\n",
       "      <td>11</td>\n",
       "      <td>3.0</td>\n",
       "      <td>1053.0</td>\n",
       "      <td>6.0</td>\n",
       "      <td>NaN</td>\n",
       "      <td>NaN</td>\n",
       "      <td>NaN</td>\n",
       "      <td>NaN</td>\n",
       "      <td>NaN</td>\n",
       "      <td>NaN</td>\n",
       "      <td>NaN</td>\n",
       "    </tr>\n",
       "    <tr>\n",
       "      <th>4</th>\n",
       "      <td>11</td>\n",
       "      <td>1.0</td>\n",
       "      <td>930.0</td>\n",
       "      <td>6.0</td>\n",
       "      <td>NaN</td>\n",
       "      <td>NaN</td>\n",
       "      <td>NaN</td>\n",
       "      <td>NaN</td>\n",
       "      <td>NaN</td>\n",
       "      <td>NaN</td>\n",
       "      <td>NaN</td>\n",
       "    </tr>\n",
       "  </tbody>\n",
       "</table>\n",
       "</div>"
      ],
      "text/plain": [
       "   UF  V0105   V4621  V4623  V2124  V2126  V2128  V2130  V2132  V2134  V2136\n",
       "0  11    NaN     NaN    NaN    NaN    NaN    NaN    NaN    NaN    NaN    NaN\n",
       "1  11    NaN     NaN    NaN    NaN    NaN    NaN    NaN    NaN    NaN    NaN\n",
       "2  11    7.0   118.0    3.0    2.0    4.0    4.0    4.0    4.0    4.0    2.0\n",
       "3  11    3.0  1053.0    6.0    NaN    NaN    NaN    NaN    NaN    NaN    NaN\n",
       "4  11    1.0   930.0    6.0    NaN    NaN    NaN    NaN    NaN    NaN    NaN"
      ]
     },
     "execution_count": 4,
     "metadata": {},
     "output_type": "execute_result"
    }
   ],
   "source": [
    "dados09 = dados2009.loc[:,[\"UF\",\"V0105\",\"V4621\",\"V4623\",\"V2124\",\"V2126\",\"V2128\",\"V2130\",\"V2132\",\"V2134\",\"V2136\"]]\n",
    "\n",
    "dados09.head()"
   ]
  },
  {
   "cell_type": "code",
   "execution_count": 5,
   "metadata": {
    "collapsed": true
   },
   "outputs": [],
   "source": [
    "dados09 = dados09[dados09.V4623<=4]\n",
    "dados09 = dados09[dados09.V4621 != 999999999999]"
   ]
  },
  {
   "cell_type": "code",
   "execution_count": 6,
   "metadata": {
    "collapsed": true
   },
   "outputs": [],
   "source": [
    "dados09 = dados09.rename(columns = {\"V4621\":\"renda_mensal_per_capita\"})\n"
   ]
  },
  {
   "cell_type": "code",
   "execution_count": 7,
   "metadata": {
    "collapsed": true
   },
   "outputs": [],
   "source": [
    "\n",
    "dados09.V2124 = dados09.V2124.astype(\"category\")\n",
    "dados09.V2124.cat.categories = (['Sim','Não'])\n",
    "dados09.V2126 = dados09.V2126.astype(\"category\")\n",
    "dados09.V2126.cat.categories = (['Sim','Não'])\n",
    "dados09.V2128 = dados09.V2128.astype(\"category\")\n",
    "dados09.V2128.cat.categories = (['Sim','Não'])\n",
    "dados09.V2130 = dados09.V2130.astype(\"category\")\n",
    "dados09.V2130.cat.categories = (['Sim','Não'])\n",
    "dados09.V2132 = dados09.V2132.astype(\"category\")\n",
    "dados09.V2132.cat.categories = (['Sim','Não'])\n",
    "dados09.V2134 = dados09.V2134.astype(\"category\")\n",
    "dados09.V2134.cat.categories = (['Sim','Não'])\n",
    "dados09.V2136 = dados09.V2136.astype(\"category\")\n",
    "dados09.V2136.cat.categories = (['Sim','Não'])\n",
    "dados09.V4623 = dados09.V4623.astype(\"category\")\n",
    "dados09.V4623.cat.categories = (['boa','leve','moderada','grave'])\n",
    "\n",
    "\n",
    "\n",
    "\n",
    "\n"
   ]
  },
  {
   "cell_type": "code",
   "execution_count": 8,
   "metadata": {},
   "outputs": [
    {
     "data": {
      "text/html": [
       "<div>\n",
       "<table border=\"1\" class=\"dataframe\">\n",
       "  <thead>\n",
       "    <tr style=\"text-align: right;\">\n",
       "      <th></th>\n",
       "      <th>UF</th>\n",
       "      <th>total_de_moradores</th>\n",
       "      <th>renda_mensal_per_capita</th>\n",
       "      <th>seguranca_alimentar</th>\n",
       "      <th>deixou de ter alimentos saudaveis</th>\n",
       "      <th>nao comeu suficiente</th>\n",
       "      <th>diminiui quantidade de alimento</th>\n",
       "      <th>deixou de fazer refeicao</th>\n",
       "      <th>sentiu fome</th>\n",
       "      <th>menos de uma refeicao/dia</th>\n",
       "      <th>recebeu ajuda em alimentos</th>\n",
       "    </tr>\n",
       "  </thead>\n",
       "  <tbody>\n",
       "    <tr>\n",
       "      <th>153836</th>\n",
       "      <td>53</td>\n",
       "      <td>3.0</td>\n",
       "      <td>2500.0</td>\n",
       "      <td>boa</td>\n",
       "      <td>NaN</td>\n",
       "      <td>NaN</td>\n",
       "      <td>NaN</td>\n",
       "      <td>NaN</td>\n",
       "      <td>NaN</td>\n",
       "      <td>NaN</td>\n",
       "      <td>NaN</td>\n",
       "    </tr>\n",
       "    <tr>\n",
       "      <th>115915</th>\n",
       "      <td>41</td>\n",
       "      <td>4.0</td>\n",
       "      <td>585.0</td>\n",
       "      <td>boa</td>\n",
       "      <td>NaN</td>\n",
       "      <td>NaN</td>\n",
       "      <td>NaN</td>\n",
       "      <td>NaN</td>\n",
       "      <td>NaN</td>\n",
       "      <td>NaN</td>\n",
       "      <td>NaN</td>\n",
       "    </tr>\n",
       "    <tr>\n",
       "      <th>115909</th>\n",
       "      <td>41</td>\n",
       "      <td>5.0</td>\n",
       "      <td>386.0</td>\n",
       "      <td>boa</td>\n",
       "      <td>NaN</td>\n",
       "      <td>NaN</td>\n",
       "      <td>NaN</td>\n",
       "      <td>NaN</td>\n",
       "      <td>NaN</td>\n",
       "      <td>NaN</td>\n",
       "      <td>NaN</td>\n",
       "    </tr>\n",
       "    <tr>\n",
       "      <th>60128</th>\n",
       "      <td>29</td>\n",
       "      <td>4.0</td>\n",
       "      <td>140.0</td>\n",
       "      <td>boa</td>\n",
       "      <td>NaN</td>\n",
       "      <td>NaN</td>\n",
       "      <td>NaN</td>\n",
       "      <td>NaN</td>\n",
       "      <td>NaN</td>\n",
       "      <td>NaN</td>\n",
       "      <td>NaN</td>\n",
       "    </tr>\n",
       "    <tr>\n",
       "      <th>60130</th>\n",
       "      <td>29</td>\n",
       "      <td>2.0</td>\n",
       "      <td>45.0</td>\n",
       "      <td>boa</td>\n",
       "      <td>NaN</td>\n",
       "      <td>NaN</td>\n",
       "      <td>NaN</td>\n",
       "      <td>NaN</td>\n",
       "      <td>NaN</td>\n",
       "      <td>NaN</td>\n",
       "      <td>NaN</td>\n",
       "    </tr>\n",
       "  </tbody>\n",
       "</table>\n",
       "</div>"
      ],
      "text/plain": [
       "        UF  total_de_moradores  renda_mensal_per_capita seguranca_alimentar  \\\n",
       "153836  53                 3.0                   2500.0                 boa   \n",
       "115915  41                 4.0                    585.0                 boa   \n",
       "115909  41                 5.0                    386.0                 boa   \n",
       "60128   29                 4.0                    140.0                 boa   \n",
       "60130   29                 2.0                     45.0                 boa   \n",
       "\n",
       "       deixou de ter alimentos saudaveis nao comeu suficiente  \\\n",
       "153836                               NaN                  NaN   \n",
       "115915                               NaN                  NaN   \n",
       "115909                               NaN                  NaN   \n",
       "60128                                NaN                  NaN   \n",
       "60130                                NaN                  NaN   \n",
       "\n",
       "       diminiui quantidade de alimento deixou de fazer refeicao sentiu fome  \\\n",
       "153836                             NaN                      NaN         NaN   \n",
       "115915                             NaN                      NaN         NaN   \n",
       "115909                             NaN                      NaN         NaN   \n",
       "60128                              NaN                      NaN         NaN   \n",
       "60130                              NaN                      NaN         NaN   \n",
       "\n",
       "       menos de uma refeicao/dia recebeu ajuda em alimentos  \n",
       "153836                       NaN                        NaN  \n",
       "115915                       NaN                        NaN  \n",
       "115909                       NaN                        NaN  \n",
       "60128                        NaN                        NaN  \n",
       "60130                        NaN                        NaN  "
      ]
     },
     "execution_count": 8,
     "metadata": {},
     "output_type": "execute_result"
    }
   ],
   "source": [
    "dados09 = dados09.rename(columns = {'V0105':'total_de_moradores',\"V4623\":\"seguranca_alimentar\" , \"V2124\":\"deixou de ter alimentos saudaveis\" , \"V2126\":\"nao comeu suficiente\",\"V2128\":\"diminiui quantidade de alimento\",\"V2130\":\"deixou de fazer refeicao\",\"V2132\":\"sentiu fome\",\"V2134\":\"menos de uma refeicao/dia\",\"V2136\":\"recebeu ajuda em alimentos\"})\n",
    "dados09.sort_values(by=\"seguranca_alimentar\").head()\n",
    "\n",
    "\n",
    "\n"
   ]
  },
  {
   "cell_type": "code",
   "execution_count": 9,
   "metadata": {
    "collapsed": true
   },
   "outputs": [],
   "source": [
    "dados09.to_csv(\"resumo09.csv\")"
   ]
  },
  {
   "cell_type": "code",
   "execution_count": 10,
   "metadata": {
    "collapsed": true
   },
   "outputs": [],
   "source": [
    "dados09sul = dados09[(dados09.UF == 41) | (dados09.UF == 42) | (dados09.UF == 43)]\n",
    "dados09nordeste = dados09[(dados09.UF >= 21) & (dados09.UF <= 29)]\n",
    "dados09norte = dados09[(dados09.UF <= 20)]\n",
    "dados09sudeste = dados09[(dados09.UF >= 31) & (dados09.UF <= 35)]\n",
    "dados09centrooeste = dados09[(dados09.UF>=50)]\n"
   ]
  },
  {
   "cell_type": "code",
   "execution_count": 11,
   "metadata": {},
   "outputs": [
    {
     "data": {
      "text/plain": [
       "['UF',\n",
       " 'total_de_moradores',\n",
       " 'renda_mensal_per_capita',\n",
       " 'seguranca_alimentar',\n",
       " 'deixou de ter alimentos saudaveis',\n",
       " 'nao comeu suficiente',\n",
       " 'diminiui quantidade de alimento',\n",
       " 'deixou de fazer refeicao',\n",
       " 'sentiu fome',\n",
       " 'menos de uma refeicao/dia',\n",
       " 'recebeu ajuda em alimentos']"
      ]
     },
     "execution_count": 11,
     "metadata": {},
     "output_type": "execute_result"
    }
   ],
   "source": [
    "list(dados09sudeste)"
   ]
  },
  {
   "cell_type": "code",
   "execution_count": 12,
   "metadata": {},
   "outputs": [
    {
     "data": {
      "text/plain": [
       "boa         70.355525\n",
       "leve        21.494133\n",
       "moderada     4.943651\n",
       "grave        3.206692\n",
       "Name: seguranca_alimentar, dtype: float64"
      ]
     },
     "execution_count": 12,
     "metadata": {},
     "output_type": "execute_result"
    }
   ],
   "source": [
    "gsasudeste = dados09sudeste.seguranca_alimentar.value_counts(True)*100\n",
    "gsasudeste\n",
    "\n",
    "\n"
   ]
  },
  {
   "cell_type": "code",
   "execution_count": 13,
   "metadata": {},
   "outputs": [
    {
     "data": {
      "text/plain": [
       "<matplotlib.text.Text at 0x20d1efc79e8>"
      ]
     },
     "execution_count": 13,
     "metadata": {},
     "output_type": "execute_result"
    },
    {
     "data": {
      "image/png": "[encoded data removed]",
      "text/plain": [
       "<matplotlib.figure.Figure at 0x20d1dd81c18>"
      ]
     },
     "metadata": {},
     "output_type": "display_data"
    }
   ],
   "source": [
    "gsasudeste.plot(kind='bar')\n",
    "plt.title(\"saude alimentar de jovens no Sudeste\")\n",
    "plt.ylabel(\"porcentagem\")\n"
   ]
  },
  {
   "cell_type": "code",
   "execution_count": 14,
   "metadata": {},
   "outputs": [
    {
     "data": {
      "text/plain": [
       "<matplotlib.axes._subplots.AxesSubplot at 0x20d1f08ab00>"
      ]
     },
     "execution_count": 14,
     "metadata": {},
     "output_type": "execute_result"
    },
    {
     "data": {
      "image/png": "[encoded data removed]",
      "text/plain": [
       "<matplotlib.figure.Figure at 0x20d1f051fd0>"
      ]
     },
     "metadata": {},
     "output_type": "display_data"
    }
   ],
   "source": [
    "gsasul = dados09sul.seguranca_alimentar.value_counts(True)*100\n",
    "plt.title(\"saude alimentar de jovens no Sul\")\n",
    "plt.ylabel(\"porcentagem\")\n",
    "gsasul.plot(kind = 'bar')"
   ]
  },
  {
   "cell_type": "code",
   "execution_count": 15,
   "metadata": {},
   "outputs": [
    {
     "data": {
      "text/plain": [
       "<matplotlib.axes._subplots.AxesSubplot at 0x20d1f120b38>"
      ]
     },
     "execution_count": 15,
     "metadata": {},
     "output_type": "execute_result"
    },
    {
     "data": {
      "image/png": "[encoded data removed]",
      "text/plain": [
       "<matplotlib.figure.Figure at 0x20d1dd73400>"
      ]
     },
     "metadata": {},
     "output_type": "display_data"
    }
   ],
   "source": [
    "gsasul.plot(kind = 'pie')"
   ]
  },
  {
   "cell_type": "code",
   "execution_count": 16,
   "metadata": {},
   "outputs": [
    {
     "data": {
      "text/plain": [
       "count    17214.000000\n",
       "mean       565.171546\n",
       "std        848.828256\n",
       "min          0.000000\n",
       "25%        230.000000\n",
       "50%        371.000000\n",
       "75%        618.000000\n",
       "max      50000.000000\n",
       "Name: renda_mensal_per_capita, dtype: float64"
      ]
     },
     "execution_count": 16,
     "metadata": {},
     "output_type": "execute_result"
    }
   ],
   "source": [
    "dados09sudeste.renda_mensal_per_capita.describe()"
   ]
  },
  {
   "cell_type": "code",
   "execution_count": 17,
   "metadata": {},
   "outputs": [
    {
     "data": {
      "text/plain": [
       "(0, 200]        20.653456\n",
       "(200, 400]      34.253362\n",
       "(400, 600]      19.497523\n",
       "(600, 800]       9.235669\n",
       "(800, 1000]      5.048360\n",
       "(1000, 1200]     2.872140\n",
       "(1200, 1400]     2.140835\n",
       "(1400, 1600]     1.433121\n",
       "(1600, 1800]     1.173626\n",
       "(1800, 2000]     0.802076\n",
       "(2000, 2200]     0.477707\n",
       "(2200, 2400]     0.513093\n",
       "(2400, 2600]     0.318471\n",
       "(2600, 2800]     0.306676\n",
       "(2800, 3000]     0.212314\n",
       "(3000, 3200]     0.112055\n",
       "(3200, 3400]     0.200519\n",
       "(3400, 3600]     0.171031\n",
       "(3600, 3800]     0.153338\n",
       "(3800, 4000]     0.153338\n",
       "(4000, 4200]     0.070771\n",
       "(4200, 4400]     0.088464\n",
       "(4400, 4600]     0.041283\n",
       "(4600, 4800]     0.070771\n",
       "Name: renda_mensal_per_capita, dtype: float64"
      ]
     },
     "execution_count": 17,
     "metadata": {},
     "output_type": "execute_result"
    }
   ],
   "source": [
    "faixa = range(0,5000,200)\n",
    "RENDAsudeste = pd.cut(dados09sudeste.renda_mensal_per_capita, bins=faixa)\n",
    "RENDAsudeste.value_counts(sort=False, normalize=True)*100"
   ]
  },
  {
   "cell_type": "code",
   "execution_count": 18,
   "metadata": {},
   "outputs": [
    {
     "data": {
      "image/png": "[encoded data removed]",
      "text/plain": [
       "<matplotlib.figure.Figure at 0x20d1f102710>"
      ]
     },
     "metadata": {},
     "output_type": "display_data"
    }
   ],
   "source": [
    "plotrendasudeste = dados09sudeste.renda_mensal_per_capita.plot.hist(bins=faixa,title='histograma de renda do sudeste',normed = 1,figsize=(5,5))\n",
    "\n"
   ]
  },
  {
   "cell_type": "code",
   "execution_count": 19,
   "metadata": {},
   "outputs": [
    {
     "data": {
      "image/png": "[encoded data removed]",
      "text/plain": [
       "<matplotlib.figure.Figure at 0x20d1f25a2e8>"
      ]
     },
     "metadata": {},
     "output_type": "display_data"
    }
   ],
   "source": [
    "plotrendasul = dados09sul.renda_mensal_per_capita.plot.hist(bins=faixa,title='histograma de renda do sul',normed = 1, figsize=(5,5))"
   ]
  },
  {
   "cell_type": "code",
   "execution_count": 20,
   "metadata": {},
   "outputs": [
    {
     "data": {
      "text/plain": [
       "4.0     5923\n",
       "3.0     5480\n",
       "5.0     2832\n",
       "6.0     1145\n",
       "2.0      994\n",
       "7.0      478\n",
       "8.0      199\n",
       "9.0       91\n",
       "10.0      33\n",
       "11.0      15\n",
       "12.0      13\n",
       "1.0        5\n",
       "15.0       3\n",
       "18.0       1\n",
       "14.0       1\n",
       "13.0       1\n",
       "Name: total_de_moradores, dtype: int64"
      ]
     },
     "execution_count": 20,
     "metadata": {},
     "output_type": "execute_result"
    }
   ],
   "source": [
    "gmsudeste = dados09sudeste.total_de_moradores.value_counts()\n",
    "gmsudeste"
   ]
  },
  {
   "cell_type": "code",
   "execution_count": 21,
   "metadata": {
    "collapsed": true
   },
   "outputs": [],
   "source": [
    "totalmoradores = pd.cut(dados09sudeste.total_de_moradores, bins=4)"
   ]
  },
  {
   "cell_type": "markdown",
   "metadata": {},
   "source": [
    "ct1sudeste = pd.crosstab( totalmoradores, dados09sudeste.seguranca_alimentar)\n",
    "ct1sudeste.plot(kind='bar', figsize = (15,5))\n",
    "plt.title('grafico de seguranca por quantidade de pessoas na moradia')"
   ]
  },
  {
   "cell_type": "code",
   "execution_count": null,
   "metadata": {
    "collapsed": true
   },
   "outputs": [],
   "source": [
    "plt.scatter(dados09sudeste.total_de_moradores, dados09sudeste.renda_, c='red', alpha=0.8)"
   ]
  }
 ],
 "metadata": {
  "kernelspec": {
   "display_name": "Python 3",
   "language": "python",
   "name": "python3"
  },
  "language_info": {
   "codemirror_mode": {
    "name": "ipython",
    "version": 3
   },
   "file_extension": ".py",
   "mimetype": "text/x-python",
   "name": "python",
   "nbconvert_exporter": "python",
   "pygments_lexer": "ipython3",
   "version": "3.6.0"
  }
 },
 "nbformat": 4,
 "nbformat_minor": 2
}
